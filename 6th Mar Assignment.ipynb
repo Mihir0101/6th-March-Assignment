{
 "cells": [
  {
   "cell_type": "markdown",
   "id": "1ee90f12-9c8d-4eb9-ae43-426722b3004f",
   "metadata": {},
   "source": [
    "# 6th March Assignment"
   ]
  },
  {
   "cell_type": "code",
   "execution_count": null,
   "id": "cfa63cb0-15ef-4fbd-ac77-39142d058282",
   "metadata": {},
   "outputs": [],
   "source": []
  },
  {
   "cell_type": "markdown",
   "id": "cbe92348-f7cf-49a4-8b6c-260ad2549d3c",
   "metadata": {},
   "source": [
    "Q1. What is Statistics?"
   ]
  },
  {
   "cell_type": "markdown",
   "id": "1948a5db-3a92-4fcc-ba09-018b8458911a",
   "metadata": {},
   "source": [
    "--> Statistics is a science of collecting,organizing and analyzing the data.\n",
    "\n",
    "--> It involves using mathematical and computational methods to extract meaningful information from data, and to make informed decisions based on that information"
   ]
  },
  {
   "cell_type": "code",
   "execution_count": null,
   "id": "7b893717-1975-4b2e-ba4e-4d94fb1601c5",
   "metadata": {},
   "outputs": [],
   "source": []
  },
  {
   "cell_type": "markdown",
   "id": "cb027ae1-908a-4097-b41a-10a303e56d09",
   "metadata": {},
   "source": [
    "Q2. Define the different types of statistics and give an example of when each type might be used."
   ]
  },
  {
   "cell_type": "markdown",
   "id": "222fb020-4518-48a1-bb96-2bca7e5908d8",
   "metadata": {},
   "source": [
    "* There is two types of statistics.\n",
    "\n",
    "1. Descriptive Statistics\n",
    "\n",
    "2. Infrential Statistics"
   ]
  },
  {
   "cell_type": "markdown",
   "id": "5f165e0b-0265-43fa-be18-c7f00d212575",
   "metadata": {},
   "source": [
    "1. Descriptive Statistics\n",
    "\n",
    "--> It consists organizing and summerizing the data.\n",
    "\n",
    "--> We might use this type of statistics,when we want summary of whole data.\n",
    "\n",
    "\n",
    "2. Infential Statistics\n",
    "\n",
    "--> It consists data you measured as conclusion.\n",
    "\n",
    "--> We might use this type of statistics,when we want to get sample data from population data."
   ]
  },
  {
   "cell_type": "code",
   "execution_count": null,
   "id": "5ec40419-fd42-4ecd-8c18-b7077b714d0f",
   "metadata": {},
   "outputs": [],
   "source": []
  },
  {
   "cell_type": "markdown",
   "id": "a97a99ea-91d2-4095-aa10-3a703e3594fb",
   "metadata": {},
   "source": [
    "Q3. What are the different types of data and how do they differ from each other? Provide an example of\n",
    "each type of data."
   ]
  },
  {
   "cell_type": "markdown",
   "id": "4ec916de-91ed-4e5a-aa1d-6146d4d717de",
   "metadata": {},
   "source": [
    "\n",
    "Data : \"Data is a facts or pieces of information\". \n",
    "\n",
    "------------------------------------------------------------------------------------------------------------------------\n",
    "\n",
    "* There is two major types of data.\n",
    "\n",
    "1. Quantitative (Discrete , Continous)\n",
    "\n",
    "2. Qualitative (Nominal , Ordinal)\n",
    "\n",
    "------------------------------------------------------------------------------------------------------------------------\n",
    "\n",
    "--> Quantitative data consists numeric values.\n",
    "\n",
    "--> Qualitative data consists categorical values.\n",
    "\n",
    "------------------------------------------------------------------------------------------------------------------------\n",
    "\n",
    "height = [164,189,176,156,188,154,189,199,134]\n",
    "--> Variable height consists quantitative data.\n",
    "\n",
    "feedback = ['Best','Good','Bad']\n",
    "--> Variabel feedback consists qualitative data."
   ]
  },
  {
   "cell_type": "code",
   "execution_count": null,
   "id": "b6258359-2282-4ffb-8e98-2a17e195bfd2",
   "metadata": {},
   "outputs": [],
   "source": []
  },
  {
   "cell_type": "markdown",
   "id": "c1aace10-0c18-4da8-9dc2-d41dc4db9559",
   "metadata": {},
   "source": [
    "Q4. Categorise the following datasets with respect to quantitative and qualitative data types:\n",
    "\n",
    "(i) Grading in exam: A+, A, B+, B, C+, C, D, E\n",
    "\n",
    "(ii) Colour of mangoes: yellow, green, orange, red\n",
    "\n",
    "(iii) Height data of a class: [178.9, 179, 179.5, 176, 177.2, 178.3, 175.8,...]\n",
    "\n",
    "(iv) Number of mangoes exported by a farm: [500, 600, 478, 672, ...]"
   ]
  },
  {
   "cell_type": "markdown",
   "id": "40961619-32c3-4bc5-bc82-b8f30b234012",
   "metadata": {},
   "source": [
    "(1) - Qualitative - Ordinal\n",
    "\n",
    "(2) - Qualitative - Nominal\n",
    "\n",
    "(3) - Quantitative - Continous\n",
    "\n",
    "(4) - Quantitative - Discrete"
   ]
  },
  {
   "cell_type": "code",
   "execution_count": null,
   "id": "e85dce07-a535-4793-a4aa-f14c336a8c4a",
   "metadata": {},
   "outputs": [],
   "source": []
  },
  {
   "cell_type": "markdown",
   "id": "1ed55700-bdfe-42f0-918c-55e82727c72e",
   "metadata": {},
   "source": [
    "Q5. Explain the concept of levels of measurement and give an example of a variable for each level."
   ]
  },
  {
   "cell_type": "markdown",
   "id": "44bfdaae-2205-41bf-a8fc-a74b244e01e3",
   "metadata": {},
   "source": [
    "\n",
    "* Statistics have four different scale of measurments.\n",
    "\n",
    "1. Nominal Scale Data\n",
    "\n",
    "2. Ordinal Scale Date\n",
    "\n",
    "3. Interval Scale Date\n",
    "\n",
    "4. Ratio Scale Date\n",
    "\n",
    "\n",
    "------------------------------------------------------------------------------------------------------------------------\n",
    "\n",
    "\n",
    "1. Nominal Scale Data\n",
    "--> Gender - Male,Female\n",
    "\n",
    "2. Ordinal Scale Date\n",
    "--> Feedback of consumers - Good,Average,Bad\n",
    "\n",
    "3. Interval Scale Date\n",
    "--> Temperature\n",
    "\n",
    "4. Ratio Scale Date\n",
    "--> Number of Children"
   ]
  },
  {
   "cell_type": "code",
   "execution_count": null,
   "id": "06c03af5-d4b5-42eb-b4fd-2898c7709f82",
   "metadata": {},
   "outputs": [],
   "source": []
  },
  {
   "cell_type": "markdown",
   "id": "c6a0c3cf-eaf4-4560-aa1b-8ef22ebb6674",
   "metadata": {},
   "source": [
    "Q6. Why is it important to understand the level of measurement when analyzing data? Provide an\n",
    "example to illustrate your answer."
   ]
  },
  {
   "cell_type": "markdown",
   "id": "1bc89b3b-812e-41bd-af63-c7faa970454d",
   "metadata": {},
   "source": [
    "--> When we are working on data or analyzing the data,it is neccesary to understan about the data.Because if we don't know about the data,we will not work properly on it.\n",
    "\n",
    "--> If you want to understand about the data,so you have must understanding about the level of measurment.\n",
    "\n",
    "--> So if we don't know about level of measurment,we can't get the output that we want."
   ]
  },
  {
   "cell_type": "markdown",
   "id": "8340e2b9-bb90-4272-aaf4-ab2e41de92f3",
   "metadata": {},
   "source": [
    "* Example\n",
    "\n",
    "--> If we have a nominal variable like color and we want to compare the mean between red and yellow, it is inappropriate to use a t-test or ANOVA because there is no inherent numerical value associated with color. Instead, we could use a chi-square test or a proportion test to compare the frequency or proportion of red and yellow in the sample."
   ]
  },
  {
   "cell_type": "code",
   "execution_count": null,
   "id": "9da16d24-1761-446e-9e5f-d8236645eef3",
   "metadata": {},
   "outputs": [],
   "source": []
  },
  {
   "cell_type": "markdown",
   "id": "e6733bf2-4fe2-4dd7-96db-b6627e506c3d",
   "metadata": {},
   "source": [
    "Q7. How nominal data type is different from ordinal data type."
   ]
  },
  {
   "cell_type": "markdown",
   "id": "3c220bd4-94f3-42b7-bfda-77a7e78a2cca",
   "metadata": {},
   "source": [
    "Nominal and ordinal both data type are part of qualitaive data,which consists cetagorical data.\n",
    "\n",
    "But there is only one major difference between them,and that is ranking.\n",
    "\n",
    "Nominal data type doesn't have ranking.\n",
    "\n",
    "On other side ordinal data type have ranking."
   ]
  },
  {
   "cell_type": "code",
   "execution_count": null,
   "id": "d63460c3-cd55-4711-b861-5bcf7679835b",
   "metadata": {},
   "outputs": [],
   "source": []
  },
  {
   "cell_type": "markdown",
   "id": "125ce390-c9cd-4ff0-86ab-34042af2f5b2",
   "metadata": {},
   "source": [
    "Q8. Which type of plot can be used to display data in terms of range?"
   ]
  },
  {
   "cell_type": "markdown",
   "id": "10fe9398-cb55-47bf-a8e8-fd5057f76b56",
   "metadata": {},
   "source": [
    "Box plot can be used to display data in terms of range.\n",
    "\n",
    "It consists the maximum and minimum values.\n",
    "\n",
    "It is alos used to find the skewness of data."
   ]
  },
  {
   "cell_type": "code",
   "execution_count": null,
   "id": "7226d64f-2145-4fcf-93b7-0089b2ba0761",
   "metadata": {},
   "outputs": [],
   "source": []
  },
  {
   "cell_type": "markdown",
   "id": "ce6d9720-0fe3-40c3-994b-fa40160b3120",
   "metadata": {},
   "source": [
    "Q9. Describe the difference between descriptive and inferential statistics. Give an example of each\n",
    "type of statistics and explain how they are used."
   ]
  },
  {
   "cell_type": "markdown",
   "id": "3e577c38-f588-43d4-a960-56f0e185f07d",
   "metadata": {},
   "source": [
    "1. Descriptive Statistics\n",
    "\n",
    "--> It is used to summerize the data.\n",
    "\n",
    "--> Example of descriptive statistics is measure of central tendency and measure of varaibility.\n",
    "\n",
    "* Used to maintain accuracy.\n",
    "\n",
    "--> When we are working on large set of data,and it has some missing value so we can't delete that perticular row-column or ingnore that values.Instead of doing this, we can find the average or median or mode of the data and put that value at the place where the data is missing.\n",
    "\n",
    "\n",
    "\n",
    "2. Infrential Statistics\n",
    "\n",
    "--> It is used to get conclusion data from population data.\n",
    "\n",
    "--> Example of infrential statistics is t-test,z-test,ect.\n",
    "\n",
    "* Used for prediction.\n",
    "\n",
    "--> Let suppose there is election is any state and we want predict about it before the results,so we have to get opinion of public.We can get opinion of few people from different districts.After collecting the opinions we can apply different method of infrential staitstics like t-test or z=test.At the end of the process we get a conclusion opinions and we can predict acoording to that conclusion."
   ]
  },
  {
   "cell_type": "code",
   "execution_count": null,
   "id": "e104ab1f-d4b1-494a-862a-739563cd3a6a",
   "metadata": {},
   "outputs": [],
   "source": []
  },
  {
   "cell_type": "markdown",
   "id": "ce2053ad-4a38-4cce-b882-ea936b1f6055",
   "metadata": {},
   "source": [
    "Q10. What are some common measures of central tendency and variability used in statistics? Explain\n",
    "how each measure can be used to describe a dataset."
   ]
  },
  {
   "cell_type": "code",
   "execution_count": null,
   "id": "c84dce01-3095-45de-a843-5be688db9e4f",
   "metadata": {},
   "outputs": [],
   "source": [
    "* Measures of Central Tendency\n",
    "\n",
    "1. Mean - Mean is used to find the average of data.\n",
    "\n",
    "2. Median - Median is used to find middle element of data. It is also used when variable has outlier.\n",
    "\n",
    "3. Mode - Mode is used to find most frequent element from the variable.\n",
    "\n",
    "* Measures of Variability\n",
    "\n",
    "1. Variance - Variance difines that how the data is spreaded.\n",
    "\n",
    "2. Standart Deviation - "
   ]
  }
 ],
 "metadata": {
  "kernelspec": {
   "display_name": "Python 3 (ipykernel)",
   "language": "python",
   "name": "python3"
  },
  "language_info": {
   "codemirror_mode": {
    "name": "ipython",
    "version": 3
   },
   "file_extension": ".py",
   "mimetype": "text/x-python",
   "name": "python",
   "nbconvert_exporter": "python",
   "pygments_lexer": "ipython3",
   "version": "3.10.8"
  }
 },
 "nbformat": 4,
 "nbformat_minor": 5
}
